{
 "cells": [
  {
   "cell_type": "code",
   "execution_count": 1,
   "metadata": {},
   "outputs": [],
   "source": [
    "import spacy\n",
    "\n",
    "\n",
    "from spacy.lang.en.stop_words import STOP_WORDS\n",
    "\n"
   ]
  },
  {
   "cell_type": "code",
   "execution_count": 2,
   "metadata": {},
   "outputs": [],
   "source": [
    "nlp = spacy.load('en_core_web_sm')\n",
    "stopwords = list(STOP_WORDS)\n",
    "from string import punctuation\n",
    "\n"
   ]
  },
  {
   "cell_type": "code",
   "execution_count": 3,
   "metadata": {},
   "outputs": [],
   "source": [
    "text = \"\"\"\n",
    "World War II (1939-1945) was one of the most significant and devastating conflicts in human history, marked by a scale of violence and a depth of impact that reshaped the world. The war involved the vast majority of the world’s nations, eventually forming two opposing military alliances: the Allies and the Axis powers.\n",
    "\n",
    "Causes of World War II\n",
    "The roots of World War II can be traced back to the unresolved issues of World War I and the Treaty of Versailles (1919), which imposed heavy reparations and territorial losses on Germany. This treaty fostered a sense of humiliation and economic hardship in Germany, which contributed to the rise of Adolf Hitler and the Nazi Party. Hitler’s aggressive expansionist policies, aiming to unite all German-speaking peoples and acquire Lebensraum (living space) for the German nation, played a crucial role in escalating tensions across Europe.\n",
    "\n",
    "In the 1930s, Hitler’s regime annexed Austria in 1938 and occupied Czechoslovakia, which went largely unchecked by other European powers due to a policy of appeasement led by Britain and France. The failure of the League of Nations to maintain peace further emboldened Axis powers, including Italy, under Benito Mussolini, and Japan, which sought to expand its empire in Asia.\n",
    "\n",
    "The Outbreak of War\n",
    "The immediate cause of World War II was the invasion of Poland by Germany on September 1, 1939, followed by the Soviet Union's invasion from the east. This prompted Britain and France to declare war on Germany on September 3, 1939. The war quickly spread as Germany utilized its Blitzkrieg strategy, employing fast-moving and coordinated attacks that overwhelmed Polish defenses. By the end of 1939, Germany had occupied Poland, and the Soviet Union had taken control of the Baltic states and parts of Finland.\n",
    "\n",
    "Major Phases of the War\n",
    "1. Early Axis Victories (1939-1941): The Axis powers achieved rapid victories in Europe, with Germany invading France in 1940 and conquering much of Western Europe. The Battle of Britain in 1940 marked the first major defeat for Hitler, as the Royal Air Force successfully defended the UK against the German Luftwaffe's bombing campaigns.\n",
    "\n",
    "2. Expansion in the East (1941): In June 1941, Germany launched Operation Barbarossa, a massive invasion of the Soviet Union. This marked a turning point, as the Soviet Union initially suffered devastating losses. However, the harsh winter and fierce Soviet resistance, particularly during the Battle of Stalingrad (1942-1943), began to turn the tide against Germany.\n",
    "\n",
    "3. Entry of the United States (1941): The war in the Pacific escalated with Japan's surprise attack on Pearl Harbor on December 7, 1941. This prompted the United States to enter the war on the side of the Allies. The U.S. provided significant military and economic support, leading to decisive victories in the Pacific, including the Battle of Midway (1942).\n",
    "\n",
    "4. Turning Points (1943-1944): The Allies began to achieve significant victories in both Europe and the Pacific. In North Africa, the Allied forces defeated German and Italian troops at the Battle of El Alamein. The invasion of Italy followed, and by June 1944, the Allies launched Operation Overlord, the D-Day invasion of Normandy, leading to the liberation of Western Europe from Nazi control.\n",
    "\n",
    "The End of the War\n",
    "As the Allies advanced from both the west and the east, the Axis powers faced increasing pressure. Germany was ultimately surrounded, and Berlin fell to Soviet forces in May 1945, leading to Hitler’s suicide. The war in Europe officially ended on May 8, 1945, known as V-E Day (Victory in Europe Day).\n",
    "\n",
    "In the Pacific, the war continued until the United States dropped atomic bombs on Hiroshima and Nagasaki in August 1945, leading to Japan’s surrender on September 2, 1945. This marked the official end of World War II and left a profound legacy on global politics, society, and culture.\n",
    "\n",
    "Aftermath and Impact\n",
    "The aftermath of World War II saw significant geopolitical changes. The United Nations was established in 1945 to foster international cooperation and prevent future conflicts. Europe was left in ruins, and the United States and the Soviet Union emerged as superpowers, leading to the Cold War era characterized by ideological rivalry and military tensions.\n",
    "\n",
    "The war also had profound social impacts, including the decolonization movement in Asia and Africa, the emergence of the United States and the Soviet Union as dominant world powers, and significant shifts in gender roles as women entered the workforce in unprecedented numbers during the war.\n",
    "\n",
    "The atrocities committed during the Holocaust, in which six million Jews and millions of others were murdered by the Nazis, led to a global reckoning with human rights, culminating in the Universal Declaration of Human Rights in 1948.\n",
    "\n",
    "In conclusion, World War II not only reshaped national borders and political ideologies but also had lasting effects on international relations, societal structures, and cultural narratives, underscoring the need for continued vigilance in the pursuit of peace and human rights.\n",
    "\"\"\""
   ]
  },
  {
   "cell_type": "code",
   "execution_count": 4,
   "metadata": {},
   "outputs": [
    {
     "name": "stdout",
     "output_type": "stream",
     "text": [
      "\n",
      " main purpose work placement training apply practical way skills knowledge acquired . According subject placement , manually agreed company school consideration general education program school trainee area specialization . \n",
      "\n",
      " Hello , hello ! hear , ? internship carried according modalities proposed company . library designed control custom LED matrix composed RGB lighting addressable LEDs , WS2812 . \n",
      "\n",
      " hard ! like numbers . Disconnect , stop , continue talking . \n",
      "\n"
     ]
    }
   ],
   "source": [
    "doc = nlp(text)\n",
    "text = \" \".join([token.text for token in doc if not token.is_stop])\n",
    "\n",
    "print(text)\n"
   ]
  },
  {
   "cell_type": "code",
   "execution_count": 5,
   "metadata": {},
   "outputs": [
    {
     "name": "stdout",
     "output_type": "stream",
     "text": [
      "['\\n', 'The', 'main', 'purpose', 'of', 'this', 'work', 'placement', 'is', 'for', 'the', 'training', 'to', 'apply', 'in', 'a', 'practical', 'way', 'the', 'skills', 'and', 'knowledge', 'acquired', '.', 'According', 'to', 'the', 'subject', 'of', 'the', 'placement', ',', 'it', 'should', 'be', 'manually', 'agreed', 'upon', 'by', 'the', 'company', 'and', 'the', 'school', 'and', 'should', 'take', 'into', 'consideration', 'the', 'general', 'education', 'program', 'of', 'the', 'school', 'and', 'the', 'trainee', \"'s\", 'area', 'of', 'specialization', '.', '\\n\\n', 'Hello', ',', 'hello', '!', 'Can', 'you', 'hear', 'me', ',', 'please', '?', 'This', 'internship', 'can', 'be', 'carried', 'out', 'according', 'to', 'all', 'the', 'modalities', 'proposed', 'by', 'the', 'company', '.', 'The', 'library', 'will', 'be', 'designed', 'to', 'control', 'a', 'custom', 'LED', 'matrix', 'composed', 'of', 'RGB', 'lighting', 'and', 'addressable', 'LEDs', ',', 'such', 'as', 'WS2812', '.', '\\n\\n', 'It', \"'s\", 'hard', '!', 'I', 'like', 'this', 'because', 'I', 'have', 'some', 'numbers', '.', 'Disconnect', ',', 'stop', ',', 'and', 'continue', 'talking', '.', '\\n']\n"
     ]
    }
   ],
   "source": [
    "tokens = [token.text for token in doc]\n",
    "print(tokens)"
   ]
  },
  {
   "cell_type": "code",
   "execution_count": 6,
   "metadata": {},
   "outputs": [
    {
     "name": "stdout",
     "output_type": "stream",
     "text": [
      "{'\\n': 2, 'main': 1, 'purpose': 1, 'work': 1, 'placement': 2, 'training': 1, 'apply': 1, 'practical': 1, 'way': 1, 'skills': 1, 'knowledge': 1, 'acquired': 1, 'According': 1, 'subject': 1, 'manually': 1, 'agreed': 1, 'company': 2, 'school': 2, 'consideration': 1, 'general': 1, 'education': 1, 'program': 1, 'trainee': 1, 'area': 1, 'specialization': 1, '\\n\\n': 2, 'Hello': 1, 'hello': 1, 'hear': 1, 'internship': 1, 'carried': 1, 'according': 1, 'modalities': 1, 'proposed': 1, 'library': 1, 'designed': 1, 'control': 1, 'custom': 1, 'LED': 1, 'matrix': 1, 'composed': 1, 'RGB': 1, 'lighting': 1, 'addressable': 1, 'LEDs': 1, 'WS2812': 1, 'hard': 1, 'like': 1, 'numbers': 1, 'Disconnect': 1, 'stop': 1, 'continue': 1, 'talking': 1}\n"
     ]
    }
   ],
   "source": [
    "word_frequencies = {}\n",
    "for word in doc:\n",
    "    if word.text.lower() not in stopwords:\n",
    "        if word.text.lower() not in punctuation:\n",
    "            if word.text not in word_frequencies.keys():\n",
    "                word_frequencies[word.text] = 1\n",
    "            else:\n",
    "                word_frequencies[word.text] += 1\n",
    "                \n",
    "print(word_frequencies)"
   ]
  },
  {
   "cell_type": "code",
   "execution_count": 7,
   "metadata": {},
   "outputs": [
    {
     "data": {
      "text/plain": [
       "2"
      ]
     },
     "execution_count": 7,
     "metadata": {},
     "output_type": "execute_result"
    }
   ],
   "source": [
    "max_frequency = max(word_frequencies.values())\n",
    "max_frequency"
   ]
  },
  {
   "cell_type": "code",
   "execution_count": 8,
   "metadata": {},
   "outputs": [
    {
     "name": "stdout",
     "output_type": "stream",
     "text": [
      "{'\\n': 1.0, 'main': 0.5, 'purpose': 0.5, 'work': 0.5, 'placement': 1.0, 'training': 0.5, 'apply': 0.5, 'practical': 0.5, 'way': 0.5, 'skills': 0.5, 'knowledge': 0.5, 'acquired': 0.5, 'According': 0.5, 'subject': 0.5, 'manually': 0.5, 'agreed': 0.5, 'company': 1.0, 'school': 1.0, 'consideration': 0.5, 'general': 0.5, 'education': 0.5, 'program': 0.5, 'trainee': 0.5, 'area': 0.5, 'specialization': 0.5, '\\n\\n': 1.0, 'Hello': 0.5, 'hello': 0.5, 'hear': 0.5, 'internship': 0.5, 'carried': 0.5, 'according': 0.5, 'modalities': 0.5, 'proposed': 0.5, 'library': 0.5, 'designed': 0.5, 'control': 0.5, 'custom': 0.5, 'LED': 0.5, 'matrix': 0.5, 'composed': 0.5, 'RGB': 0.5, 'lighting': 0.5, 'addressable': 0.5, 'LEDs': 0.5, 'WS2812': 0.5, 'hard': 0.5, 'like': 0.5, 'numbers': 0.5, 'Disconnect': 0.5, 'stop': 0.5, 'continue': 0.5, 'talking': 0.5}\n"
     ]
    }
   ],
   "source": [
    "for word in word_frequencies.keys():\n",
    "    word_frequencies[word] = word_frequencies[word]/max_frequency\n",
    "\n",
    "print(word_frequencies)"
   ]
  },
  {
   "cell_type": "code",
   "execution_count": 9,
   "metadata": {},
   "outputs": [
    {
     "name": "stdout",
     "output_type": "stream",
     "text": [
      "[\n",
      "The main purpose of this work placement is for the training to apply in a practical way the skills and knowledge acquired., According to the subject of the placement, it should be manually agreed upon by the company and the school and should take into consideration the general education program of the school and the trainee's area of specialization.\n",
      "\n",
      ", Hello, hello!, Can you hear me, please?, This internship can be carried out according to all the modalities proposed by the company., The library will be designed to control a custom LED matrix composed of RGB lighting and addressable LEDs, such as WS2812.\n",
      "\n",
      ", It's hard!, I like this because I have some numbers., Disconnect, stop, and continue talking.\n",
      "]\n"
     ]
    }
   ],
   "source": [
    "sentence_tokens = [sent for sent in doc.sents]\n",
    "print(sentence_tokens)"
   ]
  },
  {
   "cell_type": "code",
   "execution_count": 10,
   "metadata": {},
   "outputs": [
    {
     "data": {
      "text/plain": [
       "{\n",
       " The main purpose of this work placement is for the training to apply in a practical way the skills and knowledge acquired.: 7.0,\n",
       " According to the subject of the placement, it should be manually agreed upon by the company and the school and should take into consideration the general education program of the school and the trainee's area of specialization.\n",
       " : 10.5,\n",
       " Hello, hello!: 1.0,\n",
       " Can you hear me, please?: 0.5,\n",
       " This internship can be carried out according to all the modalities proposed by the company.: 3.5,\n",
       " The library will be designed to control a custom LED matrix composed of RGB lighting and addressable LEDs, such as WS2812.\n",
       " : 5.0,\n",
       " It's hard!: 0.5,\n",
       " I like this because I have some numbers.: 1.0,\n",
       " Disconnect, stop, and continue talking.: 2.5}"
      ]
     },
     "execution_count": 10,
     "metadata": {},
     "output_type": "execute_result"
    }
   ],
   "source": [
    "sentence_scores = {}\n",
    "for sent in sentence_tokens:\n",
    "    for word in sent:\n",
    "        if word.text.lower() in word_frequencies.keys():\n",
    "            if sent not in sentence_scores.keys():\n",
    "                sentence_scores[sent] = word_frequencies[word.text.lower()]\n",
    "            else:\n",
    "                sentence_scores[sent] += word_frequencies[word.text.lower()]\n",
    "                \n",
    "sentence_scores"
   ]
  },
  {
   "cell_type": "code",
   "execution_count": 11,
   "metadata": {},
   "outputs": [],
   "source": [
    "from heapq import nlargest\n"
   ]
  },
  {
   "cell_type": "code",
   "execution_count": 12,
   "metadata": {},
   "outputs": [
    {
     "data": {
      "text/plain": [
       "2"
      ]
     },
     "execution_count": 12,
     "metadata": {},
     "output_type": "execute_result"
    }
   ],
   "source": [
    "select_length = int(len(sentence_tokens)*0.3)\n",
    "select_length"
   ]
  },
  {
   "cell_type": "code",
   "execution_count": 13,
   "metadata": {},
   "outputs": [
    {
     "data": {
      "text/plain": [
       "[According to the subject of the placement, it should be manually agreed upon by the company and the school and should take into consideration the general education program of the school and the trainee's area of specialization.\n",
       " ,\n",
       " \n",
       " The main purpose of this work placement is for the training to apply in a practical way the skills and knowledge acquired.]"
      ]
     },
     "execution_count": 13,
     "metadata": {},
     "output_type": "execute_result"
    }
   ],
   "source": [
    "summary = nlargest(select_length, sentence_scores, key = sentence_scores.get)\n",
    "summary"
   ]
  },
  {
   "cell_type": "code",
   "execution_count": 14,
   "metadata": {},
   "outputs": [],
   "source": [
    "final_summary = [word.text for word in summary]\n",
    "summary = ' '.join(final_summary)"
   ]
  }
 ],
 "metadata": {
  "kernelspec": {
   "display_name": "Python 3",
   "language": "python",
   "name": "python3"
  },
  "language_info": {
   "codemirror_mode": {
    "name": "ipython",
    "version": 3
   },
   "file_extension": ".py",
   "mimetype": "text/x-python",
   "name": "python",
   "nbconvert_exporter": "python",
   "pygments_lexer": "ipython3",
   "version": "3.12.6"
  }
 },
 "nbformat": 4,
 "nbformat_minor": 2
}
